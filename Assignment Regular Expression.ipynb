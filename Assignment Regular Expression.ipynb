{
 "cells": [
  {
   "cell_type": "markdown",
   "id": "4c9c5d42",
   "metadata": {},
   "source": [
    "Ans1:Write a Python program to check that a string contains only a certain set of characters (in this case a-z, A-Z and 0-9)."
   ]
  },
  {
   "cell_type": "code",
   "execution_count": 41,
   "id": "5279d0ba",
   "metadata": {},
   "outputs": [
    {
     "name": "stdout",
     "output_type": "stream",
     "text": [
      "True\n"
     ]
    }
   ],
   "source": [
    "import re\n",
    "def is_allowed_specific_char(string):\n",
    "    charRe = re.compile(r'[^a-zA-Z0-9]')\n",
    "    string = charRe.search(string)\n",
    "    return not bool(string)\n",
    "\n",
    "print(is_allowed_specific_char(\"ABCDEFabcdef123450\")) \n"
   ]
  },
  {
   "cell_type": "code",
   "execution_count": 42,
   "id": "cc6274f1",
   "metadata": {},
   "outputs": [
    {
     "name": "stdout",
     "output_type": "stream",
     "text": [
      "False\n"
     ]
    }
   ],
   "source": [
    "print(is_allowed_specific_char(\"*&%@#!}{\"))"
   ]
  },
  {
   "cell_type": "markdown",
   "id": "20be95d0",
   "metadata": {},
   "source": [
    "Ans2:Create a function in python that matches a string that has an a followed by zero or more b's"
   ]
  },
  {
   "cell_type": "code",
   "execution_count": 27,
   "id": "3ef02dbc",
   "metadata": {},
   "outputs": [
    {
     "name": "stdout",
     "output_type": "stream",
     "text": [
      "Not matched!\n",
      "Not matched!\n",
      "Found a match!\n",
      "Found a match!\n",
      "Found a match!\n"
     ]
    }
   ],
   "source": [
    "import re\n",
    "def string_match(string):\n",
    "        patterns = '^a(b*)$'\n",
    "        if re.search(patterns,  string):\n",
    "                return 'Found a match!'\n",
    "        else:\n",
    "                return('Not matched!')\n",
    "print(string_match(\"ac\"))\n",
    "print(string_match(\"abc\"))\n",
    "print(string_match(\"a\"))\n",
    "print(string_match(\"ab\"))\n",
    "print(string_match(\"abb\"))"
   ]
  },
  {
   "cell_type": "markdown",
   "id": "742438da",
   "metadata": {},
   "source": [
    "Ans3:Create a function in python that matches a string that has an a followed by one or more b's"
   ]
  },
  {
   "cell_type": "code",
   "execution_count": 39,
   "id": "0ffe1ebd",
   "metadata": {},
   "outputs": [
    {
     "name": "stdout",
     "output_type": "stream",
     "text": [
      "Found a match!\n"
     ]
    }
   ],
   "source": [
    "import re\n",
    "def string_match(string):\n",
    "        patterns = 'ab+?'\n",
    "        if re.search(patterns,  string):\n",
    "                return 'Found a match!'\n",
    "        else:\n",
    "                return('Not matched!')\n",
    "\n",
    "print(string_match(\"ab\"))\n"
   ]
  },
  {
   "cell_type": "code",
   "execution_count": 40,
   "id": "09701d71",
   "metadata": {},
   "outputs": [
    {
     "name": "stdout",
     "output_type": "stream",
     "text": [
      "Found a match!\n"
     ]
    }
   ],
   "source": [
    "print(string_match(\"abc\"))"
   ]
  },
  {
   "cell_type": "markdown",
   "id": "51a7be6c",
   "metadata": {},
   "source": [
    "Ans5:Write a Python program that matches a string that has an a followed by three 'b'"
   ]
  },
  {
   "cell_type": "code",
   "execution_count": 38,
   "id": "88b35916",
   "metadata": {},
   "outputs": [],
   "source": [
    "import re\n",
    "def string_match(string):\n",
    "        patterns = 'ab{3}?'\n",
    "        if re.search(patterns,  string):\n",
    "                return 'Found a match!'\n",
    "        else:\n",
    "                return('Not matched!')\n",
    "\n",
    "\n"
   ]
  },
  {
   "cell_type": "code",
   "execution_count": 36,
   "id": "348d4a48",
   "metadata": {},
   "outputs": [
    {
     "name": "stdout",
     "output_type": "stream",
     "text": [
      "Found a match!\n"
     ]
    }
   ],
   "source": [
    "print(string_match(\"abbb\"))"
   ]
  },
  {
   "cell_type": "code",
   "execution_count": 37,
   "id": "0ac5e329",
   "metadata": {},
   "outputs": [
    {
     "name": "stdout",
     "output_type": "stream",
     "text": [
      "Found a match!\n"
     ]
    }
   ],
   "source": [
    "print(string_match(\"aabbbbbc\"))"
   ]
  },
  {
   "cell_type": "markdown",
   "id": "a93be1bf",
   "metadata": {},
   "source": [
    "Ans 6: Write a regular expression in Python to split a string into uppercase letters.\n",
    "Sample text: “ImportanceOfRegularExpressionsInPython”"
   ]
  },
  {
   "cell_type": "code",
   "execution_count": 31,
   "id": "921400a1",
   "metadata": {},
   "outputs": [
    {
     "name": "stdout",
     "output_type": "stream",
     "text": [
      "['Importance', 'Of', 'Regular', 'Expressions', 'In', 'Python']\n"
     ]
    }
   ],
   "source": [
    "import re\n",
    "text = \"ImportanceOfRegularExpressionsInPython\"\n",
    "print(re.findall('[A-Z][^A-Z]*', text))"
   ]
  },
  {
   "cell_type": "markdown",
   "id": "d85fc253",
   "metadata": {},
   "source": [
    "Ans7: Write a Python program that matches a string that has an a followed by two to three 'b'."
   ]
  },
  {
   "cell_type": "code",
   "execution_count": 35,
   "id": "28042418",
   "metadata": {},
   "outputs": [],
   "source": [
    "import re\n",
    "def string_match(string):\n",
    "        patterns = 'ab{2,3}'\n",
    "        if re.search(patterns,  string):\n",
    "                return 'Found a match!'\n",
    "        else:\n",
    "                return('Not matched!')\n"
   ]
  },
  {
   "cell_type": "code",
   "execution_count": 33,
   "id": "84ff7a0f",
   "metadata": {},
   "outputs": [
    {
     "name": "stdout",
     "output_type": "stream",
     "text": [
      "Not matched!\n"
     ]
    }
   ],
   "source": [
    "print(string_match(\"ab\"))"
   ]
  },
  {
   "cell_type": "code",
   "execution_count": 34,
   "id": "cffcf313",
   "metadata": {},
   "outputs": [
    {
     "name": "stdout",
     "output_type": "stream",
     "text": [
      "Found a match!\n"
     ]
    }
   ],
   "source": [
    "\n",
    "print(string_match(\"aabbbbbc\"))"
   ]
  },
  {
   "cell_type": "markdown",
   "id": "98d51494",
   "metadata": {},
   "source": [
    "Ans8:Write a Python program to find sequences of lowercase letters joined with a underscore."
   ]
  },
  {
   "cell_type": "code",
   "execution_count": 43,
   "id": "412d6781",
   "metadata": {},
   "outputs": [],
   "source": [
    "def string_match(string):\n",
    "        patterns = '^[a-z]+_[a-z]+$'\n",
    "        if re.search(patterns,  string):\n",
    "                return 'Found a match!'\n",
    "        else:\n",
    "                return('Not matched!')\n"
   ]
  },
  {
   "cell_type": "code",
   "execution_count": 47,
   "id": "88884bf6",
   "metadata": {},
   "outputs": [
    {
     "name": "stdout",
     "output_type": "stream",
     "text": [
      "Found a match!\n"
     ]
    }
   ],
   "source": [
    "\n",
    "print(string_match(\"aab_cbbbc\"))\n"
   ]
  },
  {
   "cell_type": "code",
   "execution_count": 45,
   "id": "f51aece7",
   "metadata": {},
   "outputs": [
    {
     "name": "stdout",
     "output_type": "stream",
     "text": [
      "Not matched!\n"
     ]
    }
   ],
   "source": [
    "print(string_match(\"aab_Abbbc\"))\n"
   ]
  },
  {
   "cell_type": "code",
   "execution_count": 48,
   "id": "ccb3bdba",
   "metadata": {},
   "outputs": [
    {
     "name": "stdout",
     "output_type": "stream",
     "text": [
      "Not matched!\n"
     ]
    }
   ],
   "source": [
    "print(string_match(\"Aaab_abbbc\"))"
   ]
  },
  {
   "cell_type": "markdown",
   "id": "9a57ccab",
   "metadata": {},
   "source": [
    "Ans9:Write a Python program that matches a string that has an 'a' followed by anything, ending in 'b'."
   ]
  },
  {
   "cell_type": "code",
   "execution_count": 49,
   "id": "d970fb23",
   "metadata": {},
   "outputs": [],
   "source": [
    "def string_match(string):\n",
    "        patterns = 'a.*?b$'\n",
    "        if re.search(patterns,  string):\n",
    "                return 'Found a match!'\n",
    "        else:\n",
    "                return('Not matched!')"
   ]
  },
  {
   "cell_type": "code",
   "execution_count": 51,
   "id": "7d97c99e",
   "metadata": {},
   "outputs": [
    {
     "name": "stdout",
     "output_type": "stream",
     "text": [
      "Not matched!\n"
     ]
    }
   ],
   "source": [
    "print(string_match(\"aabbbbd\"))"
   ]
  },
  {
   "cell_type": "code",
   "execution_count": 52,
   "id": "673358d2",
   "metadata": {},
   "outputs": [
    {
     "name": "stdout",
     "output_type": "stream",
     "text": [
      "Not matched!\n"
     ]
    }
   ],
   "source": [
    "print(string_match(\"aabAbbbc\"))"
   ]
  },
  {
   "cell_type": "code",
   "execution_count": 53,
   "id": "ff4ab683",
   "metadata": {},
   "outputs": [
    {
     "name": "stdout",
     "output_type": "stream",
     "text": [
      "Found a match!\n"
     ]
    }
   ],
   "source": [
    "print(string_match(\"accddbbjjjb\"))"
   ]
  },
  {
   "cell_type": "markdown",
   "id": "40837e58",
   "metadata": {},
   "source": [
    "Ans10: - Write a Python program that matches a word at the beginning of a string.\n"
   ]
  },
  {
   "cell_type": "code",
   "execution_count": 54,
   "id": "57a8f379",
   "metadata": {},
   "outputs": [],
   "source": [
    "import re\n",
    "def text_match(text):\n",
    "        patterns = '^\\w+'\n",
    "        if re.search(patterns,  text):\n",
    "                return 'Found a match!'\n",
    "        else:\n",
    "                return('Not matched!')"
   ]
  },
  {
   "cell_type": "code",
   "execution_count": 64,
   "id": "207fa6b3",
   "metadata": {},
   "outputs": [
    {
     "name": "stdout",
     "output_type": "stream",
     "text": [
      "Not matched!\n",
      "Not matched!\n"
     ]
    }
   ],
   "source": [
    "print(text_match(\"The quick brown fox jumps over the lazy dog.\"))\n",
    "print(text_match(\" The quick brown fox jumps over the lazy dog.\"))"
   ]
  },
  {
   "cell_type": "markdown",
   "id": "ccb3df13",
   "metadata": {},
   "source": [
    "Ans11: Write a Python program to match a string that contains only upper and lowercase letters, numbers, and underscores."
   ]
  },
  {
   "cell_type": "code",
   "execution_count": 63,
   "id": "c9388479",
   "metadata": {},
   "outputs": [
    {
     "name": "stdout",
     "output_type": "stream",
     "text": [
      "Not matched!\n",
      "Found a match!\n"
     ]
    }
   ],
   "source": [
    "import re\n",
    "def text_match(text):\n",
    "        patterns = '^[a-zA-Z0-9_]*$'\n",
    "        if re.search(patterns,  text):\n",
    "                return 'Found a match!'\n",
    "        else:\n",
    "                return('Not matched!')\n",
    "\n",
    "print(text_match(\"The quick brown fox jumps over the lazy cat.\"))\n",
    "print(text_match(\"Python_Exercises_2\"))"
   ]
  },
  {
   "cell_type": "markdown",
   "id": "0efbf22b",
   "metadata": {},
   "source": [
    "Ans12:Write a Python program where a string will start with a specific number. "
   ]
  },
  {
   "cell_type": "code",
   "execution_count": 68,
   "id": "7d684435",
   "metadata": {},
   "outputs": [
    {
     "name": "stdout",
     "output_type": "stream",
     "text": [
      "False\n",
      "True\n"
     ]
    }
   ],
   "source": [
    "\n",
    "def match_num(string):\n",
    "    text = re.compile(r\"^6\")\n",
    "    if text.match(string):\n",
    "        return True\n",
    "    else:\n",
    "        return False\n",
    "print(match_num('5-2345861'))\n",
    "print(match_num('6-2345861'))"
   ]
  },
  {
   "cell_type": "markdown",
   "id": "21af3119",
   "metadata": {},
   "source": [
    "Ans13: Write a Python program to remove leading zeros from an IP address"
   ]
  },
  {
   "cell_type": "code",
   "execution_count": 69,
   "id": "bbd6edcb",
   "metadata": {},
   "outputs": [
    {
     "name": "stdout",
     "output_type": "stream",
     "text": [
      "220.8.54.196\n"
     ]
    }
   ],
   "source": [
    "import re\n",
    "ip = \"220.08.054.196\"\n",
    "string = re.sub('\\.[0]*', '.', ip)\n",
    "print(string)"
   ]
  },
  {
   "cell_type": "markdown",
   "id": "17f1b707",
   "metadata": {},
   "source": [
    "Ans14:Write a regular expression in python to match a date string in the form of Month name followed by day number and year stored in a text file."
   ]
  },
  {
   "cell_type": "markdown",
   "id": "ac624c43",
   "metadata": {},
   "source": [
    "^((((0[13578])|([13578])|(1[02]))[\\/](([1-9])|([0-2][0-9])|(3[01])))|(((0[469])|([469])|(11))[\\/](([1-9])|([0-2][0-9])|(30)))|((2|02)[\\/](([1-9])|([0-2][0-9]))))[\\/]\\d{4}$|^\\d{4}$\n"
   ]
  },
  {
   "cell_type": "code",
   "execution_count": 78,
   "id": "36a303a6",
   "metadata": {},
   "outputs": [
    {
     "name": "stdout",
     "output_type": "stream",
     "text": [
      "The first input date string is 08-15-2023\n",
      "Matching both the date input if it's in the same format or not: None\n"
     ]
    }
   ],
   "source": [
    "#importing re functions\n",
    "import re\n",
    "#storing the value of datestring in a variable\n",
    "datestring = '08-15-2023'\n",
    "#use re.match() functions to match the datestring\n",
    "str =re.match('(\\d{2})[/.-](\\d{2})[/.-](\\d{4})$', datestring)\n",
    "#printing the str.group()\n",
    "print (\"The first input date string is\", str.group())\n",
    "#again declaring the datestring variable with different date format\n",
    "datestring = '2022-15-08'\n",
    "#matching the datestring with re.match() functions.\n",
    "str=re.match('(\\d{2})[/.-](\\d{2})[/.-](\\d{4})$', datestring)\n",
    "#printing the str\n",
    "print (\"Matching both the date input if it's in the same format or not:\", str)"
   ]
  },
  {
   "cell_type": "markdown",
   "id": "95928901",
   "metadata": {},
   "source": [
    "Ans15: Write a Python program to search some literals strings in a string. Go to the editor\n",
    "Sample text : 'The quick brown fox jumps over the lazy dog.'\n",
    "Searched words : 'fox', 'dog', 'horse'\n"
   ]
  },
  {
   "cell_type": "code",
   "execution_count": 79,
   "id": "bcb694c3",
   "metadata": {},
   "outputs": [
    {
     "name": "stdout",
     "output_type": "stream",
     "text": [
      "Searching for \"fox\" in \"The quick brown fox jumps over the lazy dog.\" ->\n",
      "Matched!\n",
      "Searching for \"dog\" in \"The quick brown fox jumps over the lazy dog.\" ->\n",
      "Matched!\n",
      "Searching for \"horse\" in \"The quick brown fox jumps over the lazy dog.\" ->\n",
      "Not Matched!\n"
     ]
    }
   ],
   "source": [
    "import re\n",
    "patterns = [ 'fox', 'dog', 'horse' ]\n",
    "text = 'The quick brown fox jumps over the lazy dog.'\n",
    "for pattern in patterns:\n",
    "    print('Searching for \"%s\" in \"%s\" ->' % (pattern, text),)\n",
    "    if re.search(pattern,  text):\n",
    "        print('Matched!')\n",
    "    else:\n",
    "        print('Not Matched!')"
   ]
  },
  {
   "cell_type": "markdown",
   "id": "823f4d03",
   "metadata": {},
   "source": [
    "Ans16: Write a Python program to search a literals string in a string and also find the location within the original string where the pattern occurs\n",
    "Sample text : 'The quick brown fox jumps over the lazy dog.'\n",
    "Searched words : 'fox'\n"
   ]
  },
  {
   "cell_type": "code",
   "execution_count": 80,
   "id": "2c9c28a6",
   "metadata": {},
   "outputs": [
    {
     "name": "stdout",
     "output_type": "stream",
     "text": [
      "Found \"fox\" in \"The quick brown fox jumps over the lazy dog.\" from 16 to 19 \n"
     ]
    }
   ],
   "source": [
    "import re\n",
    "pattern = 'fox'\n",
    "text = 'The quick brown fox jumps over the lazy dog.'\n",
    "match = re.search(pattern, text)\n",
    "s = match.start()\n",
    "e = match.end()\n",
    "print('Found \"%s\" in \"%s\" from %d to %d ' % \\\n",
    "    (match.re.pattern, match.string, s, e))"
   ]
  },
  {
   "cell_type": "markdown",
   "id": "188945b3",
   "metadata": {},
   "source": [
    "Ans17: Write a Python program to find the substrings within a string.\n",
    "Sample text : 'Python exercises, PHP exercises, C# exercises'\n",
    "Pattern : 'exercises'.\n"
   ]
  },
  {
   "cell_type": "code",
   "execution_count": 81,
   "id": "2876694d",
   "metadata": {},
   "outputs": [
    {
     "name": "stdout",
     "output_type": "stream",
     "text": [
      "Found \"exercises\"\n",
      "Found \"exercises\"\n",
      "Found \"exercises\"\n"
     ]
    }
   ],
   "source": [
    "import re\n",
    "text = 'Python exercises, PHP exercises, C# exercises'\n",
    "pattern = 'exercises'\n",
    "for match in re.findall(pattern, text):\n",
    "    print('Found \"%s\"' % match)\n",
    "\t"
   ]
  },
  {
   "cell_type": "markdown",
   "id": "518bc36c",
   "metadata": {},
   "source": [
    "Ans18:Write a Python program to find the occurrence and position of the substrings within a string."
   ]
  },
  {
   "cell_type": "code",
   "execution_count": 82,
   "id": "3c16d71a",
   "metadata": {},
   "outputs": [
    {
     "name": "stdout",
     "output_type": "stream",
     "text": [
      "Found \"exercises\" at 7:16\n",
      "Found \"exercises\" at 22:31\n",
      "Found \"exercises\" at 36:45\n"
     ]
    }
   ],
   "source": [
    "import re\n",
    "text = 'Python exercises, PHP exercises, C# exercises'\n",
    "pattern = 'exercises'\n",
    "for match in re.finditer(pattern, text):\n",
    "    s = match.start()\n",
    "    e = match.end()\n",
    "    print('Found \"%s\" at %d:%d' % (text[s:e], s, e))"
   ]
  },
  {
   "cell_type": "markdown",
   "id": "f74b96ed",
   "metadata": {},
   "source": [
    "Ans19:Write a Python program to convert a date of yyyy-mm-dd format to dd-mm-yyyy format."
   ]
  },
  {
   "cell_type": "code",
   "execution_count": 83,
   "id": "64991134",
   "metadata": {},
   "outputs": [
    {
     "name": "stdout",
     "output_type": "stream",
     "text": [
      "Original date in YYY-MM-DD Format:  2023-07-16\n",
      "New date in DD-MM-YYYY Format:  16-07-2023\n"
     ]
    }
   ],
   "source": [
    "import re\n",
    "def change_date_format(dt):\n",
    "        return re.sub(r'(\\d{4})-(\\d{1,2})-(\\d{1,2})', '\\\\3-\\\\2-\\\\1', dt)\n",
    "dt1 = \"2023-07-16\"\n",
    "print(\"Original date in YYY-MM-DD Format: \",dt1)\n",
    "print(\"New date in DD-MM-YYYY Format: \",change_date_format(dt1))"
   ]
  },
  {
   "cell_type": "markdown",
   "id": "aa850a3d",
   "metadata": {},
   "source": [
    "Ans20: Write a Python program to find all words starting with 'a' or 'e' in a given string."
   ]
  },
  {
   "cell_type": "code",
   "execution_count": 85,
   "id": "4c82ca24",
   "metadata": {},
   "outputs": [
    {
     "name": "stdout",
     "output_type": "stream",
     "text": [
      "['example', 'eates', 'an', 'ayList', 'apacity', 'elements', 'elements', 'are', 'en', 'added', 'ayList', 'and', 'ayList', 'ed', 'accordingly']\n"
     ]
    }
   ],
   "source": [
    "import re\n",
    "\n",
    "text = \"The following example creates an ArrayList with a capacity of 50 elements. Four elements are then added to the ArrayList and the ArrayList is trimmed accordingly.\"\n",
    "\n",
    "list = re.findall(\"[ae]\\w+\", text)\n",
    "\n",
    "print(list)"
   ]
  },
  {
   "cell_type": "markdown",
   "id": "5e8a57d9",
   "metadata": {},
   "source": [
    "Ans21:Write a Python program to separate and print the numbers and their position of a given string."
   ]
  },
  {
   "cell_type": "code",
   "execution_count": 86,
   "id": "2f40573b",
   "metadata": {},
   "outputs": [
    {
     "name": "stdout",
     "output_type": "stream",
     "text": [
      "50\n",
      "Index position: 62\n"
     ]
    }
   ],
   "source": [
    "import re\n",
    "\n",
    "text = \"The following example creates an ArrayList with a capacity of 50 elements. Four elements are then added to the ArrayList and the ArrayList is trimmed accordingly.\"\n",
    "\n",
    "for m in re.finditer(\"\\d+\", text):\n",
    "    print(m.group(0))\n",
    "    print(\"Index position:\", m.start())"
   ]
  },
  {
   "cell_type": "markdown",
   "id": "decfaf26",
   "metadata": {},
   "source": [
    "Ans22: Write a regular expression in python program to extract maximum numeric value from a string"
   ]
  },
  {
   "cell_type": "code",
   "execution_count": 88,
   "id": "b28b17dc",
   "metadata": {},
   "outputs": [
    {
     "name": "stdout",
     "output_type": "stream",
     "text": [
      "Max_value: 123\n"
     ]
    }
   ],
   "source": [
    "# import module for regular expression and collections\n",
    "import re\n",
    "#input\n",
    "string='ab12cd123ef23'\n",
    "#seperate number from string\n",
    "number = re.findall('\\d+', string)\n",
    "#convert it into integer\n",
    "number = map(int, number)\n",
    "print(\"Max_value:\",max(number))"
   ]
  },
  {
   "cell_type": "markdown",
   "id": "b3f8f6d9",
   "metadata": {},
   "source": [
    "Ans23:Write a Regex in Python to put spaces between words starting with capital letters\n",
    "\n"
   ]
  },
  {
   "cell_type": "code",
   "execution_count": 90,
   "id": "64e858e5",
   "metadata": {},
   "outputs": [
    {
     "data": {
      "text/plain": [
       "'Capital Capital Capital'"
      ]
     },
     "execution_count": 90,
     "metadata": {},
     "output_type": "execute_result"
    }
   ],
   "source": [
    ">>> re.sub(r\"(\\w)([A-Z])\", r\"\\1 \\2\", \"CapitalCapitalCapital\")"
   ]
  },
  {
   "cell_type": "markdown",
   "id": "33954e33",
   "metadata": {},
   "source": [
    "Ans24: Python regex to find sequences of one upper case letter followed by lower case letters\n",
    "\n"
   ]
  },
  {
   "cell_type": "code",
   "execution_count": 91,
   "id": "3c6d59d0",
   "metadata": {},
   "outputs": [
    {
     "name": "stdout",
     "output_type": "stream",
     "text": [
      "Found a match!\n",
      "Found a match!\n",
      "Not matched!\n",
      "Not matched!\n",
      "Not matched!\n",
      "Found a match!\n"
     ]
    }
   ],
   "source": [
    "import re\n",
    "def text_match(text):\n",
    "        patterns = '[A-Z]+[a-z]+$'\n",
    "        if re.search(patterns, text):\n",
    "                return 'Found a match!'\n",
    "        else:\n",
    "                return('Not matched!')\n",
    "print(text_match(\"AaBbGg\"))\n",
    "print(text_match(\"Python\"))\n",
    "print(text_match(\"python\"))\n",
    "print(text_match(\"PYTHON\"))\n",
    "print(text_match(\"aA\"))\n",
    "print(text_match(\"Aa\"))"
   ]
  },
  {
   "cell_type": "markdown",
   "id": "c0ac53d2",
   "metadata": {},
   "source": [
    "Ans25:- Write a Python program to remove duplicate words from Sentence using Regular Expression"
   ]
  },
  {
   "cell_type": "code",
   "execution_count": 93,
   "id": "f1ca82b3",
   "metadata": {},
   "outputs": [
    {
     "data": {
      "text/plain": [
       "'Akash'"
      ]
     },
     "execution_count": 93,
     "metadata": {},
     "output_type": "execute_result"
    }
   ],
   "source": [
    "re.sub('(.+) \\(\\\\1\\)', '\\\\1', 'Akash (Akash)')"
   ]
  },
  {
   "cell_type": "markdown",
   "id": "c09b5b3b",
   "metadata": {},
   "source": [
    "Ans26: -  Write a python program using RegEx to accept string ending with alphanumeric character.\n",
    "\n"
   ]
  },
  {
   "cell_type": "code",
   "execution_count": 94,
   "id": "ecdc6728",
   "metadata": {},
   "outputs": [
    {
     "name": "stdout",
     "output_type": "stream",
     "text": [
      "The string is :\n",
      "Python@\n",
      "The string doesnot end with alphanumeric character\n",
      "\n",
      "The string is :\n",
      "Python1245\n",
      "The string ends with alphanumeric character\n"
     ]
    }
   ],
   "source": [
    "import re\n",
    "\n",
    "regex_expression = '[a-zA-z0-9]$'\n",
    "\n",
    "def check_string(my_string):\n",
    "\n",
    "   if(re.search(regex_expression, my_string)):\n",
    "      print(\"The string ends with alphanumeric character\")\n",
    "\n",
    "   else:\n",
    "      print(\"The string doesnot end with alphanumeric character\")\n",
    "\n",
    "\n",
    "my_string_1 = \"Python@\"\n",
    "print(\"The string is :\")\n",
    "print(my_string_1)\n",
    "check_string(my_string_1)\n",
    "\n",
    "my_string_2 = \"Python1245\"\n",
    "print(\"\\nThe string is :\")\n",
    "print(my_string_2)\n",
    "check_string(my_string_2)"
   ]
  },
  {
   "cell_type": "markdown",
   "id": "8c1a4c4c",
   "metadata": {},
   "source": [
    "Ans27: Write a python program using RegEx to extract the hashtags.\n",
    "Sample Text: text = \"\"\"RT @kapil_kausik: #Doltiwal I mean #xyzabc is \"hurt\" by #Demonetization as the same has rendered USELESS <ed><U+00A0><U+00BD><ed><U+00B1><U+0089> \"acquired funds\" No wo\"\"\"\n",
    "Output: ['#Doltiwal', '#xyzabc', '#Demonetization']\n"
   ]
  },
  {
   "cell_type": "code",
   "execution_count": 95,
   "id": "4a3d8d7b",
   "metadata": {},
   "outputs": [
    {
     "ename": "SyntaxError",
     "evalue": "invalid syntax (4284475435.py, line 1)",
     "output_type": "error",
     "traceback": [
      "\u001b[1;36m  File \u001b[1;32m\"C:\\Users\\AKASH\\AppData\\Local\\Temp\\ipykernel_15232\\4284475435.py\"\u001b[1;36m, line \u001b[1;32m1\u001b[0m\n\u001b[1;33m    mport re\u001b[0m\n\u001b[1;37m          ^\u001b[0m\n\u001b[1;31mSyntaxError\u001b[0m\u001b[1;31m:\u001b[0m invalid syntax\n"
     ]
    }
   ],
   "source": [
    "mport re\n",
    "\n",
    "def extract_hashtags(text):\n",
    "    regex = \"#(\\w+)\"\n",
    "    return re.findall(regex, str(text))\n",
    "\n",
    "string = 'text = \"\"\"RT @kapil_kausik: #Doltiwal I mean #xyzabc is \"hurt\" by #Demonetization as the same has rendered USELESS <U+00A0><U+00BD><U+00B1><U+0089> \"acquired funds\" No wo\"\"\" Output: ['#Doltiwal', '#xyzabc', '#Demonetization']\n",
    "hashtags"
   ]
  },
  {
   "cell_type": "code",
   "execution_count": 96,
   "id": "545f06da",
   "metadata": {},
   "outputs": [
    {
     "ename": "SyntaxError",
     "evalue": "invalid syntax (1520811699.py, line 22)",
     "output_type": "error",
     "traceback": [
      "\u001b[1;36m  File \u001b[1;32m\"C:\\Users\\AKASH\\AppData\\Local\\Temp\\ipykernel_15232\\1520811699.py\"\u001b[1;36m, line \u001b[1;32m22\u001b[0m\n\u001b[1;33m    text1 = \" Sample Text: text = \"\"\"RT @kapil_kausik: #Doltiwal I mean #xyzabc is \"hurt\" by #Demonetization as the same has rendered USELESS <U+00A0><U+00BD><U+00B1><U+0089> \"acquired funds\" No wo\"\"\" Output: ['#Doltiwal', '#xyzabc', '#Demonetization']\"\u001b[0m\n\u001b[1;37m                                     ^\u001b[0m\n\u001b[1;31mSyntaxError\u001b[0m\u001b[1;31m:\u001b[0m invalid syntax\n"
     ]
    }
   ],
   "source": [
    "def extract_hashtags(text):\n",
    " \n",
    "    # initializing hashtag_list variable\n",
    "    hashtag_list = []\n",
    " \n",
    "    # splitting the text into words\n",
    "    for word in text.split():\n",
    " \n",
    "        # checking the first character of every word\n",
    "        if word[0] == '#':\n",
    " \n",
    "            # adding the word to the hashtag_list\n",
    "            hashtag_list.append(word[1:])\n",
    " \n",
    "    # printing the hashtag_list\n",
    "    print(\"The hashtags in \\\"\" + text + \"\\\" are :\")\n",
    "    for hashtag in hashtag_list:\n",
    "        print(hashtag)\n",
    " \n",
    " \n",
    "if __name__ == \"__main__\":\n",
    "    text1 = \" Sample Text: text = \"\"\"RT @kapil_kausik: #Doltiwal I mean #xyzabc is \"hurt\" by #Demonetization as the same has rendered USELESS <U+00A0><U+00BD><U+00B1><U+0089> \"acquired funds\" No wo\"\"\" Output: ['#Doltiwal', '#xyzabc', '#Demonetization']\"\n",
    "    text2 = \"This day is beautiful ! #instagood #photooftheday #cute\"\n",
    "    extract_hashtags(text1)\n",
    "    extract_hashtags(text2)"
   ]
  },
  {
   "cell_type": "markdown",
   "id": "fe5917c8",
   "metadata": {},
   "source": [
    "Ans28:Write a python program using RegEx to remove <U+..> like symbols\n",
    "Check the below sample text, there are strange symbols something of the sort <U+..> all over the place. You need to come up with a general Regex expression that will cover all such symbols.\n",
    "Sample Text: \"@Jags123456 Bharat band on 28??<ed><U+00A0><U+00BD><ed><U+00B8><U+0082>Those who  are protesting #demonetization  are all different party leaders\"\n",
    "Output: @Jags123456 Bharat band on 28??<ed><ed>Those who  are protesting #demonetization  are all different party leaders\n"
   ]
  },
  {
   "cell_type": "markdown",
   "id": "2f68dbb7",
   "metadata": {},
   "source": [
    "Ans29:Write a python program to extract dates from the text stored in the text file.\n",
    "Sample Text: Ron was born on 12-09-1992 and he was admitted to school 15-12-1999.\n",
    "Store this sample text in the file and then extract dates.\n"
   ]
  },
  {
   "cell_type": "code",
   "execution_count": 98,
   "id": "750023f4",
   "metadata": {},
   "outputs": [],
   "source": [
    "test_str = \"ample Text: Ron was born on 12-09-1992 and he was admitted to school 15-12-1999. Store this sample text in the file and then extract dates\""
   ]
  },
  {
   "cell_type": "markdown",
   "id": "c111347b",
   "metadata": {},
   "source": [
    "Ans39:Write a Python program to replace all occurrences of a space, comma, or dot with a colon.\n",
    "Sample Text- 'Python Exercises, PHP exercises.'\n",
    "Output: Python:Exercises::PHP:exercises:\n"
   ]
  },
  {
   "cell_type": "code",
   "execution_count": 99,
   "id": "d59a6737",
   "metadata": {},
   "outputs": [
    {
     "name": "stdout",
     "output_type": "stream",
     "text": [
      "Python:Exercises::PHP:exercises:\n"
     ]
    }
   ],
   "source": [
    "import re\n",
    "text = 'Python Exercises, PHP exercises.'\n",
    "print(re.sub(\"[ ,.]\", \":\", text))"
   ]
  },
  {
   "cell_type": "code",
   "execution_count": null,
   "id": "3c490255",
   "metadata": {},
   "outputs": [],
   "source": []
  }
 ],
 "metadata": {
  "kernelspec": {
   "display_name": "Python 3 (ipykernel)",
   "language": "python",
   "name": "python3"
  },
  "language_info": {
   "codemirror_mode": {
    "name": "ipython",
    "version": 3
   },
   "file_extension": ".py",
   "mimetype": "text/x-python",
   "name": "python",
   "nbconvert_exporter": "python",
   "pygments_lexer": "ipython3",
   "version": "3.9.13"
  }
 },
 "nbformat": 4,
 "nbformat_minor": 5
}
